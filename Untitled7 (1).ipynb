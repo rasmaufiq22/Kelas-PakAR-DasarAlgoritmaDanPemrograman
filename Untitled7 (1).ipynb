{
  "nbformat": 4,
  "nbformat_minor": 0,
  "metadata": {
    "colab": {
      "provenance": []
    },
    "kernelspec": {
      "name": "python3",
      "display_name": "Python 3"
    },
    "language_info": {
      "name": "python"
    }
  },
  "cells": [
    {
      "cell_type": "code",
      "source": [
        "# Input\n",
        "nama = input(\"Masukan Nama: \")\n",
        "nim = input(\"Masukan NIM: \")\n",
        "kelas = input(\"Masukan Kelas: \")\n",
        "\n",
        "# Output\n",
        "print(\"Nama: \", nama)\n",
        "print(\"NIM: \", nim)\n",
        "print(\"kelas: \", kelas)"
      ],
      "metadata": {
        "colab": {
          "base_uri": "https://localhost:8080/"
        },
        "id": "uYtZO0TneYdN",
        "outputId": "bfe67b34-baf6-47fc-e369-f0270beae7e2"
      },
      "execution_count": 2,
      "outputs": [
        {
          "output_type": "stream",
          "name": "stdout",
          "text": [
            "Masukan Nama: Rasya maulana Syafiq\n",
            "Masukan NIM: 24110310067\n",
            "Masukan Kelas: Bisnis Digital 2A\n",
            "Nama:  Rasya maulana Syafiq\n",
            "NIM:  24110310067\n",
            "kelas:  Bisnis Digital 2A\n"
          ]
        }
      ]
    },
    {
      "cell_type": "code",
      "source": [],
      "metadata": {
        "id": "8YhpxPjng5XU"
      },
      "execution_count": null,
      "outputs": []
    }
  ]
}